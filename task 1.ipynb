{
 "cells": [
  {
   "cell_type": "markdown",
   "id": "702020f9",
   "metadata": {},
   "source": [
    "# TASK 1 (DATA SCIENCE AND BUSINESS ANALYTICS)\n",
    "\n",
    "# PREETI KUMARI- INTERN\n",
    "\n",
    "# GRIPAUGUST2021\n",
    "\n",
    "# PREDICTION USING SUPERVISED ML\n",
    "\n"
   ]
  },
  {
   "cell_type": "markdown",
   "id": "01fe081a",
   "metadata": {},
   "source": [
    "# REQUIRED LIBRARIES"
   ]
  },
  {
   "cell_type": "code",
   "execution_count": 35,
   "id": "9d37b27b",
   "metadata": {},
   "outputs": [
    {
     "name": "stdout",
     "output_type": "stream",
     "text": [
      "libraries imported\n"
     ]
    }
   ],
   "source": [
    "import pandas as pd\n",
    "import numpy as np\n",
    "import matplotlib.pyplot as plt\n",
    "from sklearn.linear_model import LinearRegression\n",
    "print('libraries imported')"
   ]
  },
  {
   "cell_type": "markdown",
   "id": "566f2402",
   "metadata": {},
   "source": [
    "# IMPORTING DATA"
   ]
  },
  {
   "cell_type": "code",
   "execution_count": 36,
   "id": "aca5b78c",
   "metadata": {},
   "outputs": [],
   "source": [
    "link=\"https://raw.githubusercontent.com/AdiPersonalWorks/Random/master/student_scores%20-%20student_scores.csv\"\n",
    "df=pd.read_csv(link)"
   ]
  },
  {
   "cell_type": "code",
   "execution_count": 3,
   "id": "c8f600cb",
   "metadata": {},
   "outputs": [
    {
     "name": "stdout",
     "output_type": "stream",
     "text": [
      "    Hours  Scores\n",
      "0     2.5      21\n",
      "1     5.1      47\n",
      "2     3.2      27\n",
      "3     8.5      75\n",
      "4     3.5      30\n",
      "5     1.5      20\n",
      "6     9.2      88\n",
      "7     5.5      60\n",
      "8     8.3      81\n",
      "9     2.7      25\n",
      "10    7.7      85\n",
      "11    5.9      62\n",
      "12    4.5      41\n",
      "13    3.3      42\n",
      "14    1.1      17\n",
      "15    8.9      95\n",
      "16    2.5      30\n",
      "17    1.9      24\n",
      "18    6.1      67\n",
      "19    7.4      69\n",
      "20    2.7      30\n",
      "21    4.8      54\n",
      "22    3.8      35\n",
      "23    6.9      76\n",
      "24    7.8      86\n"
     ]
    }
   ],
   "source": [
    "print(df)"
   ]
  },
  {
   "cell_type": "markdown",
   "id": "0e204168",
   "metadata": {},
   "source": [
    "# highlights of data(df)\n"
   ]
  },
  {
   "cell_type": "code",
   "execution_count": 45,
   "id": "91e5e1bf",
   "metadata": {},
   "outputs": [
    {
     "data": {
      "text/plain": [
       "(25, 2)"
      ]
     },
     "execution_count": 45,
     "metadata": {},
     "output_type": "execute_result"
    }
   ],
   "source": [
    "#rows and columns\n",
    "df.shape"
   ]
  },
  {
   "cell_type": "markdown",
   "id": "45c23884",
   "metadata": {},
   "source": [
    "25 rows and 2 columns"
   ]
  },
  {
   "cell_type": "code",
   "execution_count": 6,
   "id": "805e134e",
   "metadata": {},
   "outputs": [
    {
     "data": {
      "text/plain": [
       "Hours     0\n",
       "Scores    0\n",
       "dtype: int64"
      ]
     },
     "execution_count": 6,
     "metadata": {},
     "output_type": "execute_result"
    }
   ],
   "source": [
    "#checking existence of null values\n",
    "df.isnull().sum()"
   ]
  },
  {
   "cell_type": "code",
   "execution_count": 46,
   "id": "f66728c5",
   "metadata": {},
   "outputs": [
    {
     "data": {
      "text/html": [
       "<div>\n",
       "<style scoped>\n",
       "    .dataframe tbody tr th:only-of-type {\n",
       "        vertical-align: middle;\n",
       "    }\n",
       "\n",
       "    .dataframe tbody tr th {\n",
       "        vertical-align: top;\n",
       "    }\n",
       "\n",
       "    .dataframe thead th {\n",
       "        text-align: right;\n",
       "    }\n",
       "</style>\n",
       "<table border=\"1\" class=\"dataframe\">\n",
       "  <thead>\n",
       "    <tr style=\"text-align: right;\">\n",
       "      <th></th>\n",
       "      <th>Hours</th>\n",
       "      <th>Scores</th>\n",
       "    </tr>\n",
       "  </thead>\n",
       "  <tbody>\n",
       "    <tr>\n",
       "      <th>count</th>\n",
       "      <td>25.000000</td>\n",
       "      <td>25.000000</td>\n",
       "    </tr>\n",
       "    <tr>\n",
       "      <th>mean</th>\n",
       "      <td>5.012000</td>\n",
       "      <td>51.480000</td>\n",
       "    </tr>\n",
       "    <tr>\n",
       "      <th>std</th>\n",
       "      <td>2.525094</td>\n",
       "      <td>25.286887</td>\n",
       "    </tr>\n",
       "    <tr>\n",
       "      <th>min</th>\n",
       "      <td>1.100000</td>\n",
       "      <td>17.000000</td>\n",
       "    </tr>\n",
       "    <tr>\n",
       "      <th>25%</th>\n",
       "      <td>2.700000</td>\n",
       "      <td>30.000000</td>\n",
       "    </tr>\n",
       "    <tr>\n",
       "      <th>50%</th>\n",
       "      <td>4.800000</td>\n",
       "      <td>47.000000</td>\n",
       "    </tr>\n",
       "    <tr>\n",
       "      <th>75%</th>\n",
       "      <td>7.400000</td>\n",
       "      <td>75.000000</td>\n",
       "    </tr>\n",
       "    <tr>\n",
       "      <th>max</th>\n",
       "      <td>9.200000</td>\n",
       "      <td>95.000000</td>\n",
       "    </tr>\n",
       "  </tbody>\n",
       "</table>\n",
       "</div>"
      ],
      "text/plain": [
       "           Hours     Scores\n",
       "count  25.000000  25.000000\n",
       "mean    5.012000  51.480000\n",
       "std     2.525094  25.286887\n",
       "min     1.100000  17.000000\n",
       "25%     2.700000  30.000000\n",
       "50%     4.800000  47.000000\n",
       "75%     7.400000  75.000000\n",
       "max     9.200000  95.000000"
      ]
     },
     "execution_count": 46,
     "metadata": {},
     "output_type": "execute_result"
    }
   ],
   "source": [
    "#statistical properties of data\n",
    "df.describe()"
   ]
  },
  {
   "cell_type": "code",
   "execution_count": 8,
   "id": "8151bb78",
   "metadata": {},
   "outputs": [],
   "source": [
    "#visualisation of data"
   ]
  },
  {
   "cell_type": "code",
   "execution_count": 9,
   "id": "1555b877",
   "metadata": {},
   "outputs": [
    {
     "data": {
      "image/png": "[encoded data removed]",
      "text/plain": [
       "<Figure size 432x288 with 1 Axes>"
      ]
     },
     "metadata": {
      "needs_background": "light"
     },
     "output_type": "display_data"
    }
   ],
   "source": [
    "df.plot(x='Hours',y='Scores',style='o')\n",
    "plt.title('relationship between hours and score')\n",
    "plt.xlabel('Hours studied')\n",
    "plt.ylabel('Percentage score')\n",
    "plt.show()"
   ]
  },
  {
   "cell_type": "markdown",
   "id": "d8111dbe",
   "metadata": {},
   "source": [
    "it is easy to see from the above scatter plot diagram that there is a positive relation between hours studied and percentage scores"
   ]
  },
  {
   "cell_type": "code",
   "execution_count": 10,
   "id": "1232ab70",
   "metadata": {},
   "outputs": [],
   "source": [
    "#Now we need to do-preprocessing of data"
   ]
  },
  {
   "cell_type": "code",
   "execution_count": 11,
   "id": "e75622be",
   "metadata": {},
   "outputs": [],
   "source": [
    "x=df.iloc[:,:-1].values\n",
    "y=df.iloc[:, 1].values"
   ]
  },
  {
   "cell_type": "markdown",
   "id": "a1b4f0bc",
   "metadata": {},
   "source": [
    "# Training of data"
   ]
  },
  {
   "cell_type": "markdown",
   "id": "66ab428a",
   "metadata": {},
   "source": [
    "from sklearn.model_selection import train_test_split\n",
    "x_train,x_test,y_train,y_test=train_test_split(x,y,test_size=0.2,random_state=0)\n"
   ]
  },
  {
   "cell_type": "code",
   "execution_count": 16,
   "id": "67544181",
   "metadata": {},
   "outputs": [
    {
     "name": "stdout",
     "output_type": "stream",
     "text": [
      "training completed\n"
     ]
    }
   ],
   "source": [
    "regressor=LinearRegression()\n",
    "regressor.fit(x_train,y_train)\n",
    "print('training completed')"
   ]
  },
  {
   "cell_type": "markdown",
   "id": "293f631d",
   "metadata": {},
   "source": [
    "# FITTING THE REGRESSION LINE"
   ]
  },
  {
   "cell_type": "code",
   "execution_count": 47,
   "id": "99bb1fa5",
   "metadata": {},
   "outputs": [
    {
     "data": {
      "image/png": "[encoded data removed]",
      "text/plain": [
       "<Figure size 432x288 with 1 Axes>"
      ]
     },
     "metadata": {
      "needs_background": "light"
     },
     "output_type": "display_data"
    }
   ],
   "source": [
    "line=regressor.coef_*x+regressor.intercept_\n",
    "plt.scatter(x,y)\n",
    "plt.plot(x,line,color='blue')\n",
    "plt.show()    "
   ]
  },
  {
   "cell_type": "markdown",
   "id": "fa5a6483",
   "metadata": {},
   "source": [
    "# PREDICTION FROM THE MODEL"
   ]
  },
  {
   "cell_type": "code",
   "execution_count": 23,
   "id": "80ce07c5",
   "metadata": {},
   "outputs": [],
   "source": [
    "y_predicted=regressor.predict(x_test)"
   ]
  },
  {
   "cell_type": "code",
   "execution_count": 27,
   "id": "d565dfe3",
   "metadata": {},
   "outputs": [
    {
     "data": {
      "text/html": [
       "<div>\n",
       "<style scoped>\n",
       "    .dataframe tbody tr th:only-of-type {\n",
       "        vertical-align: middle;\n",
       "    }\n",
       "\n",
       "    .dataframe tbody tr th {\n",
       "        vertical-align: top;\n",
       "    }\n",
       "\n",
       "    .dataframe thead th {\n",
       "        text-align: right;\n",
       "    }\n",
       "</style>\n",
       "<table border=\"1\" class=\"dataframe\">\n",
       "  <thead>\n",
       "    <tr style=\"text-align: right;\">\n",
       "      <th></th>\n",
       "      <th>Actual</th>\n",
       "      <th>Predicted</th>\n",
       "    </tr>\n",
       "  </thead>\n",
       "  <tbody>\n",
       "    <tr>\n",
       "      <th>0</th>\n",
       "      <td>20</td>\n",
       "      <td>16.884145</td>\n",
       "    </tr>\n",
       "    <tr>\n",
       "      <th>1</th>\n",
       "      <td>27</td>\n",
       "      <td>33.732261</td>\n",
       "    </tr>\n",
       "    <tr>\n",
       "      <th>2</th>\n",
       "      <td>69</td>\n",
       "      <td>75.357018</td>\n",
       "    </tr>\n",
       "    <tr>\n",
       "      <th>3</th>\n",
       "      <td>30</td>\n",
       "      <td>26.794801</td>\n",
       "    </tr>\n",
       "    <tr>\n",
       "      <th>4</th>\n",
       "      <td>62</td>\n",
       "      <td>60.491033</td>\n",
       "    </tr>\n",
       "  </tbody>\n",
       "</table>\n",
       "</div>"
      ],
      "text/plain": [
       "   Actual  Predicted\n",
       "0      20  16.884145\n",
       "1      27  33.732261\n",
       "2      69  75.357018\n",
       "3      30  26.794801\n",
       "4      62  60.491033"
      ]
     },
     "execution_count": 27,
     "metadata": {},
     "output_type": "execute_result"
    }
   ],
   "source": [
    "df_predicted=pd.DataFrame({'Actual':y_test,'Predicted':y_predicted})\n",
    "df_predictedicted"
   ]
  },
  {
   "cell_type": "code",
   "execution_count": 28,
   "id": "c8b755b4",
   "metadata": {},
   "outputs": [
    {
     "name": "stdout",
     "output_type": "stream",
     "text": [
      "training_score: 0.9515510725211552\n",
      "test score: 0.9454906892105354\n"
     ]
    }
   ],
   "source": [
    "print('training_score:',regressor.score(x_train,y_train))\n",
    "print(\"test score:\",regressor.score(x_test,y_test))"
   ]
  },
  {
   "cell_type": "markdown",
   "id": "4039139c",
   "metadata": {},
   "source": [
    "# required prediction\n"
   ]
  },
  {
   "cell_type": "code",
   "execution_count": 48,
   "id": "4a7a779e",
   "metadata": {},
   "outputs": [
    {
     "name": "stdout",
     "output_type": "stream",
     "text": [
      "no. of hours={} 9.25\n",
      "predicted scores={} 93.69173248737539\n",
      "prediction completed\n"
     ]
    }
   ],
   "source": [
    "hours=9.25\n",
    "test=np.array([hours])\n",
    "test=test.reshape(-1,1)\n",
    "req_pred=regressor.predict(test)\n",
    "print(\"no. of hours={}\",format(hours))\n",
    "print('predicted scores={}',format(req_pred[0]))\n",
    "print('prediction completed')"
   ]
  },
  {
   "cell_type": "code",
   "execution_count": 43,
   "id": "f77589b3",
   "metadata": {},
   "outputs": [
    {
     "name": "stdout",
     "output_type": "stream",
     "text": [
      "Mean Absolute Error: 4.183859899002982\n",
      "Mean Squared Error: 21.598769307217456\n",
      "R^2 score: 0.9454906892105354\n"
     ]
    }
   ],
   "source": [
    "from sklearn.metrics import mean_absolute_error,mean_squared_error,r2_score\n",
    "print(\"Mean Absolute Error:\",mean_absolute_error(y_test,y_predicted))\n",
    "print(\"Mean Squared Error:\",mean_squared_error(y_test,y_predicted))\n",
    "print(\"R^2 score:\",r2_score(y_test,y_predicted))"
   ]
  },
  {
   "cell_type": "code",
   "execution_count": 44,
   "id": "766baf32",
   "metadata": {},
   "outputs": [
    {
     "name": "stdout",
     "output_type": "stream",
     "text": [
      "Task completed\n"
     ]
    }
   ],
   "source": [
    "print('Task completed')"
   ]
  },
  {
   "cell_type": "code",
   "execution_count": 49,
   "id": "23b3e343",
   "metadata": {},
   "outputs": [
    {
     "name": "stdout",
     "output_type": "stream",
     "text": [
      "thankyou\n"
     ]
    }
   ],
   "source": [
    "print('thankyou')"
   ]
  },
  {
   "cell_type": "code",
   "execution_count": null,
   "id": "df28fd58",
   "metadata": {},
   "outputs": [],
   "source": []
  }
 ],
 "metadata": {
  "kernelspec": {
   "display_name": "Python 3",
   "language": "python",
   "name": "python3"
  },
  "language_info": {
   "codemirror_mode": {
    "name": "ipython",
    "version": 3
   },
   "file_extension": ".py",
   "mimetype": "text/x-python",
   "name": "python",
   "nbconvert_exporter": "python",
   "pygments_lexer": "ipython3",
   "version": "3.8.8"
  }
 },
 "nbformat": 4,
 "nbformat_minor": 5
}
